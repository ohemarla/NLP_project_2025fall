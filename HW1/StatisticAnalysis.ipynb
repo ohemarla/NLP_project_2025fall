{
 "cells": [
  {
   "cell_type": "markdown",
   "id": "e1f17316",
   "metadata": {},
   "source": [
    "对预处理的中英文文本进行统计分析，包括计算在收集样本上英语字母和单词或汉字的概率和熵，并利用收集的英文文本验证齐夫定律(Zipf’s law)，分析过程中设置25%、50%、75%和100%的文本量，观察不同文本量对结果的影响，同时在分析过程中绘制相应的图表进行展示。"
   ]
  },
  {
   "cell_type": "code",
   "execution_count": null,
   "id": "78e324e3",
   "metadata": {},
   "outputs": [],
   "source": [
    "# 库导入\n",
    "import numpy as np\n",
    "import pandas as pd\n",
    "import collections as ct\n",
    "import matplotlib.pyplot as plt\n",
    "import seaborn as sns"
   ]
  },
  {
   "cell_type": "code",
   "execution_count": null,
   "id": "92b0b144",
   "metadata": {},
   "outputs": [],
   "source": [
    "'''分别为中文和英文设计不同的文本处理函数，对于中文直接对汉字进行相关的统计分析，而对于英文则分别进行字母和单词的统计分析，此外还有用于计算熵的函数。'''\n",
    "\n",
    "# 中文文本处理函数\n",
    "def zh_process(text):\n",
    "    character_counts = ct.Counter(text)\n",
    "    character_counts.pop(' ', None)\n",
    "    character_stats = pd.DataFrame(\n",
    "        character_counts.items(), \n",
    "        columns=['character', 'count']\n",
    "    )   # 构造一个DataFrame，包含汉字及其计数，df形式方便后续分析与作图\n",
    "    total_characters = character_stats['count'].sum()   # 统计总汉字数\n",
    "    character_stats['prob'] = character_stats['count'] / total_characters   # 计算每个汉字的概率\n",
    "    return character_stats # 返回包含汉字、计数、概率和熵的DataFrame\n",
    "\n",
    "# 英文文本处理函数\n",
    "def en_process(text):\n",
    "    text = text.lower() # 先统一转换为小写字母\n",
    "    letter_counts = ct.Counter(c for c in text if c.isalpha())  # 统计字母\n",
    "    word_counts = ct.Counter(text.split())  # 统计单词\n",
    "    letter_stats = pd.DataFrame(\n",
    "        letter_counts.items(),\n",
    "        columns=['letter', 'count']\n",
    "    )\n",
    "    word_stats = pd.DataFrame(\n",
    "        word_counts.items(),\n",
    "        columns=['word', 'count']\n",
    "    )   # 分别构造字母和单词的DataFrame\n",
    "    total_letters = letter_stats['count'].sum()\n",
    "    total_words = word_stats['count'].sum()\n",
    "    letter_stats['prob'] = letter_stats['count'] / total_letters\n",
    "    word_stats['prob'] = word_stats['count'] / total_words\n",
    "    return letter_stats, word_stats \n",
    "\n",
    "# 熵函数  \n",
    "def calculate_entropy(dataframe):\n",
    "    entropy = sum(-p * np.log2(p) for p in dataframe['prob'] if p > 0)\n",
    "    return entropy"
   ]
  },
  {
   "cell_type": "markdown",
   "id": "9a6760a6",
   "metadata": {},
   "source": [
    "中文语料分析"
   ]
  },
  {
   "cell_type": "code",
   "execution_count": null,
   "id": "266a8ca3",
   "metadata": {},
   "outputs": [],
   "source": [
    "zh_file_path = 'zh_wikipedia.txt'   # 设置文件路径\n",
    "with open(zh_file_path, 'r', encoding='utf-8') as f:\n",
    "    zh_text = f.read()\n",
    "\n",
    "zh_stats = zh_process(zh_text)\n",
    "zh_entropy = calculate_entropy(zh_stats)\n",
    "print(zh_entropy)\n",
    "zh_stats = zh_stats.sort_values(by='count', ascending=False).reset_index(drop=True)\n",
    "zh_stats.head(20)"
   ]
  },
  {
   "cell_type": "code",
   "execution_count": null,
   "id": "149fc1cf",
   "metadata": {},
   "outputs": [],
   "source": [
    "# 绘制汉字概率分布图（前20个汉字）\n",
    "\n",
    "plt.rcParams['font.sans-serif'] = ['SimHei']\n",
    "plt.rcParams['font.family'] = 'sans-serif'\n",
    "\n",
    "plt.figure(figsize=(12, 6))\n",
    "sns.barplot(x='character', y='prob', data=zh_stats.head(20))\n",
    "plt.title('Top 20 Chinese Characters by Probability')"
   ]
  }
 ],
 "metadata": {
  "kernelspec": {
   "display_name": "Python 3",
   "language": "python",
   "name": "python3"
  },
  "language_info": {
   "codemirror_mode": {
    "name": "ipython",
    "version": 3
   },
   "file_extension": ".py",
   "mimetype": "text/x-python",
   "name": "python",
   "nbconvert_exporter": "python",
   "pygments_lexer": "ipython3",
   "version": "3.12.1"
  }
 },
 "nbformat": 4,
 "nbformat_minor": 5
}
