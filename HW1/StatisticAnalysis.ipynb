{
 "cells": [
  {
   "cell_type": "code",
   "execution_count": 2,
   "id": "e1f17316",
   "metadata": {},
   "outputs": [],
   "source": [
    "# 对预处理的中英文文本进行统计分析，包括计算在收集样本上英语字母和单词或汉字的概率和熵，并利用收集的英文文本验证齐夫定律(Zipf’s law)，分析过程中设置25%、50%、75%和100%的文本量，观察不同文本量对结果的影响，同时在分析过程中绘制相应的图表进行展示。\n",
    "\n",
    "import numpy as np\n",
    "import collections as ct\n",
    "import matplotlib.pyplot as plt\n",
    "import seaborn as sns"
   ]
  },
  {
   "cell_type": "code",
   "execution_count": null,
   "id": "92b0b144",
   "metadata": {},
   "outputs": [],
   "source": [
    "# 分别为中文和英文设计不同的文本处理函数，对于中文直接对汉字进行相关的统计分析，而对于英文则分别进行字母和单词的统计分析\n",
    "def zh_process(text):\n",
    "    char_counts = ct.Counter(text)\n",
    "    total_chars = sum(char_counts.values())\n",
    "    char_probs = {char: count / total_chars for char, count in char_counts.items()}\n",
    "    return char_probs\n",
    "\n",
    "def en_process(text):\n",
    "    word_counts = ct.Counter(text.split())\n",
    "    total_words = sum(word_counts.values())\n",
    "    word_probs = {word: count / total_words for word, count in word_counts.items()}\n",
    "    return word_probs"
   ]
  }
 ],
 "metadata": {
  "kernelspec": {
   "display_name": "Python 3",
   "language": "python",
   "name": "python3"
  },
  "language_info": {
   "codemirror_mode": {
    "name": "ipython",
    "version": 3
   },
   "file_extension": ".py",
   "mimetype": "text/x-python",
   "name": "python",
   "nbconvert_exporter": "python",
   "pygments_lexer": "ipython3",
   "version": "3.12.1"
  }
 },
 "nbformat": 4,
 "nbformat_minor": 5
}
