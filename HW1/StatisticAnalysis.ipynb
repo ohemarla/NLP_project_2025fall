{
 "cells": [
  {
   "cell_type": "code",
   "execution_count": null,
   "id": "e1f17316",
   "metadata": {},
   "outputs": [],
   "source": [
    "# 对预处理的中英文文本进行统计分析，包括计算在收集样本上英语字母和单词或汉字的概率和熵，并利用收集的英文文本验证齐夫定律(Zipf’s law)，分析过程中设置25%、50%、75%和100%的文本量，观察不同文本量对结果的影响，同时在分析过程中绘制相应的图表进行展示。\n",
    "\n",
    "import numpy as np\n",
    "import collections as ct\n",
    "import matplotlib.pyplot as plt\n",
    "import seaborn as sns"
   ]
  }
 ],
 "metadata": {
  "language_info": {
   "name": "python"
  }
 },
 "nbformat": 4,
 "nbformat_minor": 5
}
